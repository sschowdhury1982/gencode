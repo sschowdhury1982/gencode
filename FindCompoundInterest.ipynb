{
  "nbformat": 4,
  "nbformat_minor": 0,
  "metadata": {
    "colab": {
      "provenance": [],
      "authorship_tag": "ABX9TyPlaj8/Zu17j6/HIGl2YU7+",
      "include_colab_link": true
    },
    "kernelspec": {
      "name": "python3",
      "display_name": "Python 3"
    },
    "language_info": {
      "name": "python"
    }
  },
  "cells": [
    {
      "cell_type": "markdown",
      "metadata": {
        "id": "view-in-github",
        "colab_type": "text"
      },
      "source": [
        "<a href=\"https://colab.research.google.com/github/sschowdhury1982/gencode/blob/main/FindCompoundInterest.ipynb\" target=\"_parent\"><img src=\"https://colab.research.google.com/assets/colab-badge.svg\" alt=\"Open In Colab\"/></a>"
      ]
    },
    {
      "cell_type": "code",
      "execution_count": 5,
      "metadata": {
        "id": "mtdkcrtGVJp4"
      },
      "outputs": [],
      "source": [
        "# Function to compute the compound interest:\n",
        "\n",
        "def compound_interest(principal, rate, time):\n",
        "    \"\"\"Compute the compound interest.\"\"\"\n",
        "    amount = principal * (1 + rate / 100) ** time\n",
        "    compound_i = amount - principal\n",
        "    return compound_i"
      ]
    },
    {
      "cell_type": "code",
      "source": [
        "FindCompoundInterest = compound_interest(1000, 10, 5)"
      ],
      "metadata": {
        "id": "aY5uJHRJRyGM"
      },
      "execution_count": 6,
      "outputs": []
    },
    {
      "cell_type": "code",
      "source": [
        "print(FindCompoundInterest)"
      ],
      "metadata": {
        "colab": {
          "base_uri": "https://localhost:8080/"
        },
        "id": "dXMsfwh8R53T",
        "outputId": "9d19063c-d1df-4bbc-acb5-f5badb43fdb8"
      },
      "execution_count": 7,
      "outputs": [
        {
          "output_type": "stream",
          "name": "stdout",
          "text": [
            "610.5100000000004\n"
          ]
        }
      ]
    }
  ]
}